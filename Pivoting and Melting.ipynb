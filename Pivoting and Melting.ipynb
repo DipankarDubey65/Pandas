{
 "cells": [
  {
   "cell_type": "code",
   "execution_count": 11,
   "id": "644b9c18",
   "metadata": {},
   "outputs": [
    {
     "name": "stdout",
     "output_type": "stream",
     "text": [
      "  Keys     Names Houses Grades\n",
      "0   K1      Aman    Red    3rd\n",
      "1   K2  Dipankar   Blue    8th\n",
      "2   K1    Nikhil  Green    9th\n",
      "3   K2  Kushagra    Red    8th\n"
     ]
    }
   ],
   "source": [
    "import pandas as pd\n",
    "data ={'Keys':['K1','K2','K1','K2'],\n",
    "      'Names':['Aman','Dipankar','Nikhil','Kushagra'],\n",
    "      'Houses':['Red','Blue','Green','Red'],\n",
    "      'Grades':['3rd','8th','9th','8th']}\n",
    "df = pd.DataFrame(data)\n",
    "print(df)"
   ]
  },
  {
   "cell_type": "code",
   "execution_count": 12,
   "id": "f56a4ec6",
   "metadata": {},
   "outputs": [
    {
     "name": "stdout",
     "output_type": "stream",
     "text": [
      "Names Aman Dipankar Kushagra Nikhil\n",
      "Keys                               \n",
      "K1     Red      NaN      NaN  Green\n",
      "K2     NaN     Blue      Red    NaN\n"
     ]
    }
   ],
   "source": [
    "# print pivoting\n",
    "print(df.pivot('Keys','Names','Houses'))"
   ]
  },
  {
   "cell_type": "code",
   "execution_count": 13,
   "id": "7979c9de",
   "metadata": {},
   "outputs": [
    {
     "name": "stdout",
     "output_type": "stream",
     "text": [
      "      Houses                          Grades                         \n",
      "Names   Aman Dipankar Kushagra Nikhil   Aman Dipankar Kushagra Nikhil\n",
      "Keys                                                                 \n",
      "K1       Red      NaN      NaN  Green    3rd      NaN      NaN    9th\n",
      "K2       NaN     Blue      Red    NaN    NaN      8th      8th    NaN\n"
     ]
    }
   ],
   "source": [
    "print(df.pivot(index='Keys',columns='Names',values=['Houses','Grades']))"
   ]
  },
  {
   "cell_type": "code",
   "execution_count": 14,
   "id": "55063fff",
   "metadata": {},
   "outputs": [
    {
     "name": "stdout",
     "output_type": "stream",
     "text": [
      "      Names Houses Grades\n",
      "0      Aman    Red    3rd\n",
      "1  Dipankar   Blue    8th\n",
      "2    Nikhil  Green    9th\n",
      "3  Kushagra    Red    8th\n"
     ]
    }
   ],
   "source": [
    "# melting\n",
    "\n",
    "data ={\n",
    "      'Names':['Aman','Dipankar','Nikhil','Kushagra'],\n",
    "      'Houses':['Red','Blue','Green','Red'],\n",
    "      'Grades':['3rd','8th','9th','8th']}\n",
    "df3 =pd.DataFrame(data)\n",
    "print(df3)\n"
   ]
  },
  {
   "cell_type": "code",
   "execution_count": 22,
   "id": "ca6297de",
   "metadata": {},
   "outputs": [
    {
     "name": "stdout",
     "output_type": "stream",
     "text": [
      "      Names variable  value\n",
      "0      Aman   Houses    Red\n",
      "1  Dipankar   Houses   Blue\n",
      "2    Nikhil   Houses  Green\n",
      "3  Kushagra   Houses    Red\n",
      "4      Aman   Grades    3rd\n",
      "5  Dipankar   Grades    8th\n",
      "6    Nikhil   Grades    9th\n",
      "7  Kushagra   Grades    8th\n"
     ]
    }
   ],
   "source": [
    "import pandas as pd \n",
    "print(pd.melt(df3,id_vars=['Names'],value_vars=['Houses','Grades']))"
   ]
  },
  {
   "cell_type": "code",
   "execution_count": 24,
   "id": "bf31baaf",
   "metadata": {},
   "outputs": [
    {
     "name": "stdout",
     "output_type": "stream",
     "text": [
      "      Names  Series  Colur\n",
      "0      Aman  Houses    Red\n",
      "1  Dipankar  Houses   Blue\n",
      "2    Nikhil  Houses  Green\n",
      "3  Kushagra  Houses    Red\n",
      "4      Aman  Grades    3rd\n",
      "5  Dipankar  Grades    8th\n",
      "6    Nikhil  Grades    9th\n",
      "7  Kushagra  Grades    8th\n"
     ]
    }
   ],
   "source": [
    " # New column of anme \n",
    "print(pd.melt(df3,id_vars=['Names'],value_vars=['Houses','Grades'],var_name = 'Series',value_name='Colur'))"
   ]
  },
  {
   "cell_type": "code",
   "execution_count": null,
   "id": "5c9255a5",
   "metadata": {},
   "outputs": [],
   "source": []
  },
  {
   "cell_type": "code",
   "execution_count": null,
   "id": "6967ea0d",
   "metadata": {},
   "outputs": [],
   "source": []
  }
 ],
 "metadata": {
  "kernelspec": {
   "display_name": "Python 3 (ipykernel)",
   "language": "python",
   "name": "python3"
  },
  "language_info": {
   "codemirror_mode": {
    "name": "ipython",
    "version": 3
   },
   "file_extension": ".py",
   "mimetype": "text/x-python",
   "name": "python",
   "nbconvert_exporter": "python",
   "pygments_lexer": "ipython3",
   "version": "3.7.6"
  }
 },
 "nbformat": 4,
 "nbformat_minor": 5
}
