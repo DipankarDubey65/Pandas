{
 "cells": [
  {
   "cell_type": "code",
   "execution_count": 5,
   "id": "4bb4d1a2",
   "metadata": {},
   "outputs": [
    {
     "name": "stdout",
     "output_type": "stream",
     "text": [
      "  Emp Id      Name  Age\n",
      "0    E01      Aman   20\n",
      "1    E02    Nikhil   22\n",
      "2    E03    Jayent   21\n",
      "3    E04  Kushagra   23\n",
      "4    E05     Rahul   25\n",
      "\n",
      "  Emp Id  Salary\n",
      "0    E01   40000\n",
      "1    E02   56000\n",
      "2    E03   34000\n",
      "3    E04   30000\n",
      "4    E05   50000\n"
     ]
    }
   ],
   "source": [
    "# Merge, Join and concatenate in Pandas\n",
    "import pandas as pd\n",
    "data1 ={'Emp Id':['E01','E02','E03','E04','E05'],\n",
    "       'Name':['Aman','Nikhil','Jayent','Kushagra','Rahul'],\n",
    "       'Age':[20,22,21,23,25]}\n",
    "data2 ={'Emp Id':['E01','E02','E03','E04','E05'],\n",
    "       'Salary':[40000,56000,34000,30000,50000]}\n",
    "d1 =pd.DataFrame(data1)\n",
    "d2 =pd.DataFrame(data2)\n",
    "print(d1)\n",
    "print()\n",
    "print(d2)\n"
   ]
  },
  {
   "cell_type": "code",
   "execution_count": 9,
   "id": "b27b25d6",
   "metadata": {},
   "outputs": [
    {
     "name": "stdout",
     "output_type": "stream",
     "text": [
      "  Emp Id      Name  Age  Salary\n",
      "0    E01      Aman   20   40000\n",
      "1    E02    Nikhil   22   56000\n",
      "2    E03    Jayent   21   34000\n",
      "3    E04  Kushagra   23   30000\n",
      "4    E05     Rahul   25   50000\n"
     ]
    }
   ],
   "source": [
    "# Employee Id based on data merge:\n",
    "\n",
    "print(pd.merge(d1,d2,on ='Emp Id'))"
   ]
  },
  {
   "cell_type": "code",
   "execution_count": 18,
   "id": "0c22d933",
   "metadata": {},
   "outputs": [
    {
     "name": "stdout",
     "output_type": "stream",
     "text": [
      "  Emp Id    Name  Age  Salary\n",
      "0    E01    Aman   20   40000\n",
      "1    E02  Nikhil   22   56000\n",
      "2    E05   Rahul   25   50000\n",
      "\n",
      "\n",
      "  Emp Id      Name  Age   Salary\n",
      "0    E01      Aman   20  40000.0\n",
      "1    E02    Nikhil   22  56000.0\n",
      "2    E03    Jayent   21      NaN\n",
      "3    E04  Kushagra   23      NaN\n",
      "4    E05     Rahul   25  50000.0\n"
     ]
    }
   ],
   "source": [
    "data3 ={'Emp Id':['E01','E02','E03','E04','E05'],\n",
    "       'Name':['Aman','Nikhil','Jayent','Kushagra','Rahul'],\n",
    "       'Age':[20,22,21,23,25]}\n",
    "data4 ={'Emp Id':['E01','E02','E08','E09','E05'],\n",
    "       'Salary':[40000,56000,34000,30000,50000]}\n",
    "d3 =pd.DataFrame(data3)\n",
    "d4 =pd.DataFrame(data4)\n",
    "\n",
    "print(pd.merge(d3,d4, on = 'Emp Id'))# only comn emp id data merge\n",
    "print()\n",
    "print()\n",
    "\n",
    "# merge data based on left data\n",
    "print(pd.merge(left =d3,right =d4,on ='Emp Id',how ='left'))"
   ]
  },
  {
   "cell_type": "code",
   "execution_count": 19,
   "id": "d42303d2",
   "metadata": {},
   "outputs": [
    {
     "name": "stdout",
     "output_type": "stream",
     "text": [
      "  Emp Id    Name   Age  Salary\n",
      "0    E01    Aman  20.0   40000\n",
      "1    E02  Nikhil  22.0   56000\n",
      "2    E08     NaN   NaN   34000\n",
      "3    E09     NaN   NaN   30000\n",
      "4    E05   Rahul  25.0   50000\n"
     ]
    }
   ],
   "source": [
    "# merge data based on Right data\n",
    "print(pd.merge(left =d3,right =d4,on ='Emp Id',how ='right'))"
   ]
  },
  {
   "cell_type": "code",
   "execution_count": 31,
   "id": "3718d83e",
   "metadata": {},
   "outputs": [
    {
     "name": "stdout",
     "output_type": "stream",
     "text": [
      "  Emp Id      Name  Age\n",
      "0    E01      Aman   20\n",
      "1    E02    Nikhil   22\n",
      "2    E03    Jayent   21\n",
      "3    E04  Kushagra   23\n",
      "4    E05     Rahul   25\n",
      "0    E11  Dipankar   21\n",
      "1    E12    Satyam   26\n",
      "2    E13  Rajendra   28\n",
      "3    E14   bhunesh   18\n",
      "4    E15    Shivam   19\n"
     ]
    }
   ],
   "source": [
    "# join function\n",
    "\n",
    "data5 ={'Emp Id':['E01','E02','E03','E04','E05'],\n",
    "       'Name':['Aman','Nikhil','Jayent','Kushagra','Rahul'],\n",
    "       'Age':[20,22,21,23,25]}\n",
    "data6 ={'Emp Id':['E11','E12','E13','E14','E15'],\n",
    "        'Name':['Dipankar','Satyam','Rajendra','bhunesh','Shivam'],\n",
    "        'Age':[21,26,28,18,19]}\n",
    "       \n",
    "d5 =pd.DataFrame(data5)\n",
    "d6 =pd.DataFrame(data6)\n",
    "#print(pd.join(d5,d6))\n",
    "\n",
    "# combine data\n",
    "print(pd.concat([d5,d6]))\n"
   ]
  },
  {
   "cell_type": "code",
   "execution_count": null,
   "id": "3c6e79d4",
   "metadata": {},
   "outputs": [],
   "source": []
  }
 ],
 "metadata": {
  "kernelspec": {
   "display_name": "Python 3 (ipykernel)",
   "language": "python",
   "name": "python3"
  },
  "language_info": {
   "codemirror_mode": {
    "name": "ipython",
    "version": 3
   },
   "file_extension": ".py",
   "mimetype": "text/x-python",
   "name": "python",
   "nbconvert_exporter": "python",
   "pygments_lexer": "ipython3",
   "version": "3.7.6"
  }
 },
 "nbformat": 4,
 "nbformat_minor": 5
}
