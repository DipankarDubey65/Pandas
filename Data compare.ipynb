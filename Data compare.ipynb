{
 "cells": [
  {
   "cell_type": "code",
   "execution_count": 1,
   "id": "00ee6af4",
   "metadata": {},
   "outputs": [
    {
     "name": "stdout",
     "output_type": "stream",
     "text": [
      "   Fruits  Price  Quantity\n",
      "0   Mango    100        15\n",
      "1  Apples    150        10\n",
      "2  Banana     50        10\n",
      "3  Papaya     35         3\n"
     ]
    }
   ],
   "source": [
    "import pandas as pd\n",
    "dict = {'Fruits':['Mango','Apples','Banana','Papaya'],\n",
    "       'Price':[100,150,50,35],\n",
    "       'Quantity':[15,10,10,3]}\n",
    "df = pd.DataFrame(dict)\n",
    "print(df)"
   ]
  },
  {
   "cell_type": "code",
   "execution_count": 5,
   "id": "14725bf1",
   "metadata": {},
   "outputs": [
    {
     "name": "stdout",
     "output_type": "stream",
     "text": [
      "   Fruits  Price  Quantity\n",
      "0   Mango    100        15\n",
      "1  Apples    150        10\n",
      "2  Banana     50        10\n",
      "3  Papaya     35         3\n",
      "   Fruits  Price  Quantity\n",
      "0   Mango    120        12\n",
      "1  Apples    175        15\n",
      "2  Banana     30         5\n",
      "3  Papaya     35         3\n"
     ]
    }
   ],
   "source": [
    "df2 = df.copy()\n",
    "print(df2)\n",
    "#update value\n",
    "df2.loc[0,'Price']=120\n",
    "df2.loc[1,'Price']=175\n",
    "df2.loc[2,'Price']=30\n",
    "\n",
    "df2.loc[0,'Quantity']=12\n",
    "df2.loc[1,'Quantity']=15\n",
    "df2.loc[2,'Quantity']=5\n",
    "print(df2)"
   ]
  },
  {
   "cell_type": "code",
   "execution_count": 10,
   "id": "b3b0501d",
   "metadata": {},
   "outputs": [
    {
     "name": "stdout",
     "output_type": "stream",
     "text": [
      "  Price       Quantity      \n",
      "   self other     self other\n",
      "0   100   120       15    12\n",
      "1   150   175       10    15\n",
      "2    50    30       10     5\n"
     ]
    }
   ],
   "source": [
    "# compare df1 and df2\n",
    "print(df.compare(df2) )"
   ]
  },
  {
   "cell_type": "code",
   "execution_count": 11,
   "id": "d6788315",
   "metadata": {},
   "outputs": [
    {
     "name": "stdout",
     "output_type": "stream",
     "text": [
      "  Price       Quantity      \n",
      "   self other     self other\n",
      "0   100   120       15    12\n",
      "1   150   175       10    15\n",
      "2    50    30       10     5\n"
     ]
    }
   ],
   "source": [
    "# compare df1 and df2\n",
    "print(df.compare(df2,keep_equal = True) )"
   ]
  },
  {
   "cell_type": "code",
   "execution_count": null,
   "id": "2df36e07",
   "metadata": {},
   "outputs": [],
   "source": []
  }
 ],
 "metadata": {
  "kernelspec": {
   "display_name": "Python 3 (ipykernel)",
   "language": "python",
   "name": "python3"
  },
  "language_info": {
   "codemirror_mode": {
    "name": "ipython",
    "version": 3
   },
   "file_extension": ".py",
   "mimetype": "text/x-python",
   "name": "python",
   "nbconvert_exporter": "python",
   "pygments_lexer": "ipython3",
   "version": "3.7.6"
  }
 },
 "nbformat": 4,
 "nbformat_minor": 5
}
