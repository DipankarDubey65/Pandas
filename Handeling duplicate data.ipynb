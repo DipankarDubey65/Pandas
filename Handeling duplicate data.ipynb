{
 "cells": [
  {
   "cell_type": "code",
   "execution_count": 2,
   "id": "1863324a",
   "metadata": {},
   "outputs": [
    {
     "name": "stdout",
     "output_type": "stream",
     "text": [
      "               hotel  is_canceled  arrival_date_year arrival_date_month  \\\n",
      "0       Resort Hotel            0               2015               July   \n",
      "1       Resort Hotel            0               2015               July   \n",
      "2       Resort Hotel            0               2015               July   \n",
      "3       Resort Hotel            0               2015               July   \n",
      "4       Resort Hotel            0               2015               July   \n",
      "...              ...          ...                ...                ...   \n",
      "119385    City Hotel            0               2017             August   \n",
      "119386    City Hotel            0               2017             August   \n",
      "119387    City Hotel            0               2017             August   \n",
      "119388    City Hotel            0               2017             August   \n",
      "119389    City Hotel            0               2017             August   \n",
      "\n",
      "        adults  children  babies country reserved_room_type  \\\n",
      "0            2       0.0       0     PRT                  C   \n",
      "1            2       0.0       0     PRT                  C   \n",
      "2            1       0.0       0     GBR                  A   \n",
      "3            1       0.0       0     GBR                  A   \n",
      "4            2       0.0       0     GBR                  A   \n",
      "...        ...       ...     ...     ...                ...   \n",
      "119385       2       0.0       0     BEL                  A   \n",
      "119386       3       0.0       0     FRA                  E   \n",
      "119387       2       0.0       0     DEU                  D   \n",
      "119388       2       0.0       0     GBR                  A   \n",
      "119389       2       0.0       0     DEU                  A   \n",
      "\n",
      "       assigned_room_type customer_type reservation_status Room_status  \\\n",
      "0                       C     Transient          Check-Out     Desired   \n",
      "1                       C     Transient          Check-Out     Desired   \n",
      "2                       C     Transient          Check-Out  Un-Desired   \n",
      "3                       A     Transient          Check-Out     Desired   \n",
      "4                       A     Transient          Check-Out     Desired   \n",
      "...                   ...           ...                ...         ...   \n",
      "119385                  A     Transient          Check-Out     Desired   \n",
      "119386                  E     Transient          Check-Out     Desired   \n",
      "119387                  D     Transient          Check-Out     Desired   \n",
      "119388                  A     Transient          Check-Out     Desired   \n",
      "119389                  A     Transient          Check-Out     Desired   \n",
      "\n",
      "       Guest_type  \n",
      "0         Couples  \n",
      "1         Couples  \n",
      "2          Single  \n",
      "3          Single  \n",
      "4         Couples  \n",
      "...           ...  \n",
      "119385    Couples  \n",
      "119386     Family  \n",
      "119387    Couples  \n",
      "119388    Couples  \n",
      "119389    Couples  \n",
      "\n",
      "[119390 rows x 14 columns]\n"
     ]
    }
   ],
   "source": [
    "import pandas as pd\n",
    "\n",
    "data = pd.read_excel(\"D:\\Data Analyst\\Project\\hotel_booking_2.xlsx\")\n",
    "print(data)"
   ]
  },
  {
   "cell_type": "code",
   "execution_count": 13,
   "id": "e99d6b2b",
   "metadata": {},
   "outputs": [
    {
     "name": "stdout",
     "output_type": "stream",
     "text": [
      "119212\n"
     ]
    }
   ],
   "source": [
    "# print(data.duplicated()) # row in dulicate value present ?\n",
    "\n",
    "print(data['country'].duplicated().sum())\n"
   ]
  },
  {
   "cell_type": "code",
   "execution_count": 14,
   "id": "f53a2a60",
   "metadata": {},
   "outputs": [
    {
     "name": "stdout",
     "output_type": "stream",
     "text": [
      "               hotel  is_canceled  arrival_date_year arrival_date_month  \\\n",
      "0       Resort Hotel            0               2015               July   \n",
      "2       Resort Hotel            0               2015               July   \n",
      "12      Resort Hotel            0               2015               July   \n",
      "13      Resort Hotel            0               2015               July   \n",
      "15      Resort Hotel            0               2015               July   \n",
      "...              ...          ...                ...                ...   \n",
      "113817    City Hotel            0               2017               June   \n",
      "113912    City Hotel            0               2017               June   \n",
      "115334    City Hotel            0               2017               July   \n",
      "117399    City Hotel            0               2017               July   \n",
      "117943    City Hotel            0               2017             August   \n",
      "\n",
      "        adults  children  babies country reserved_room_type  \\\n",
      "0            2       0.0       0     PRT                  C   \n",
      "2            1       0.0       0     GBR                  A   \n",
      "12           2       0.0       0     USA                  D   \n",
      "13           2       1.0       0     ESP                  G   \n",
      "15           2       0.0       0     IRL                  D   \n",
      "...        ...       ...     ...     ...                ...   \n",
      "113817       1       0.0       0     KIR                  A   \n",
      "113912       2       0.0       0     SDN                  A   \n",
      "115334       2       0.0       0     ATF                  A   \n",
      "117399       2       0.0       0     SLE                  A   \n",
      "117943       2       0.0       0     LAO                  D   \n",
      "\n",
      "       assigned_room_type customer_type reservation_status Room_status  \\\n",
      "0                       C     Transient          Check-Out     Desired   \n",
      "2                       C     Transient          Check-Out  Un-Desired   \n",
      "12                      E     Transient          Check-Out  Un-Desired   \n",
      "13                      G     Transient          Check-Out     Desired   \n",
      "15                      E     Transient          Check-Out  Un-Desired   \n",
      "...                   ...           ...                ...         ...   \n",
      "113817                  A     Transient          Check-Out     Desired   \n",
      "113912                  A     Transient          Check-Out     Desired   \n",
      "115334                  A     Transient          Check-Out     Desired   \n",
      "117399                  A     Transient          Check-Out     Desired   \n",
      "117943                  D     Transient          Check-Out     Desired   \n",
      "\n",
      "       Guest_type  \n",
      "0         Couples  \n",
      "2          Single  \n",
      "12        Couples  \n",
      "13         Family  \n",
      "15        Couples  \n",
      "...           ...  \n",
      "113817     Single  \n",
      "113912    Couples  \n",
      "115334    Couples  \n",
      "117399    Couples  \n",
      "117943    Couples  \n",
      "\n",
      "[178 rows x 14 columns]\n"
     ]
    }
   ],
   "source": [
    "print(data.drop_duplicates('country'))"
   ]
  },
  {
   "cell_type": "code",
   "execution_count": null,
   "id": "65fe81c8",
   "metadata": {},
   "outputs": [],
   "source": []
  }
 ],
 "metadata": {
  "kernelspec": {
   "display_name": "Python 3 (ipykernel)",
   "language": "python",
   "name": "python3"
  },
  "language_info": {
   "codemirror_mode": {
    "name": "ipython",
    "version": 3
   },
   "file_extension": ".py",
   "mimetype": "text/x-python",
   "name": "python",
   "nbconvert_exporter": "python",
   "pygments_lexer": "ipython3",
   "version": "3.7.6"
  }
 },
 "nbformat": 4,
 "nbformat_minor": 5
}
