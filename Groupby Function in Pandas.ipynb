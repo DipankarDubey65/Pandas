{
 "cells": [
  {
   "cell_type": "code",
   "execution_count": 7,
   "id": "dabd0f8a",
   "metadata": {},
   "outputs": [
    {
     "name": "stdout",
     "output_type": "stream",
     "text": [
      "                        EEID\n",
      "Department      Gender      \n",
      "Accounting      Female    53\n",
      "                Male      43\n",
      "Engineering     Female    80\n",
      "                Male      78\n",
      "Finance         Female    69\n",
      "                Male      51\n",
      "Human Resources Female    64\n",
      "                Male      61\n",
      "IT              Female   119\n",
      "                Male     122\n",
      "Marketing       Female    57\n",
      "                Male      63\n",
      "Sales           Female    76\n",
      "                Male      64\n"
     ]
    }
   ],
   "source": [
    "# Department in gender wise count:\n",
    "gp = data.groupby([\"Department\",'Gender']).agg({'EEID':'count'})\n",
    "print(gp)"
   ]
  },
  {
   "cell_type": "code",
   "execution_count": 3,
   "id": "260acea3",
   "metadata": {},
   "outputs": [
    {
     "name": "stdout",
     "output_type": "stream",
     "text": [
      "     EEID        Full Name                 Job Title  Department  \\\n",
      "0  E02387      Emily Davis                Sr. Manger          IT   \n",
      "1  E04105    Theodore Dinh       Technical Architect          IT   \n",
      "2  E02572     Luna Sanders                  Director     Finance   \n",
      "3  E02832  Penelope Jordan  Computer Systems Manager          IT   \n",
      "4  E01639        Austin Vo               Sr. Analyst     Finance   \n",
      "5  E00644     Joshua Gupta    Account Representative       Sales   \n",
      "6  E01550      Ruby Barnes                   Manager          IT   \n",
      "7  E04332      Luke Martin                   Analyst     Finance   \n",
      "8  E04533    Easton Bailey                   Manager  Accounting   \n",
      "9  E03838  Madeline Walker               Sr. Analyst     Finance   \n",
      "\n",
      "            Business Unit  Gender  Ethnicity  Age  Hire Date  Annual Salary  \\\n",
      "0  Research & Development  Female      Black   55 2016-04-08         141604   \n",
      "1           Manufacturing    Male      Asian   59 1997-11-29          99975   \n",
      "2     Speciality Products  Female  Caucasian   50 2006-10-26         163099   \n",
      "3           Manufacturing  Female  Caucasian   26 2019-09-27          84913   \n",
      "4           Manufacturing    Male      Asian   55 1995-11-20          95409   \n",
      "5               Corporate    Male      Asian   57 2017-01-24          50994   \n",
      "6               Corporate  Female  Caucasian   27 2020-07-01         119746   \n",
      "7           Manufacturing    Male      Black   25 2020-05-16          41336   \n",
      "8           Manufacturing    Male  Caucasian   29 2019-01-25         113527   \n",
      "9     Speciality Products  Female  Caucasian   34 2018-06-13          77203   \n",
      "\n",
      "   Bonus %        Country       City  Exit Date  \n",
      "0     0.15  United States    Seattle 2021-10-16  \n",
      "1     0.00          China  Chongqing        NaT  \n",
      "2     0.20  United States    Chicago        NaT  \n",
      "3     0.07  United States    Chicago        NaT  \n",
      "4     0.00  United States    Phoenix        NaT  \n",
      "5     0.00          China  Chongqing        NaT  \n",
      "6     0.10  United States    Phoenix        NaT  \n",
      "7     0.00  United States      Miami 2021-05-20  \n",
      "8     0.06  United States     Austin        NaT  \n",
      "9     0.00  United States    Chicago        NaT  \n"
     ]
    }
   ],
   "source": [
    "import pandas as pd\n",
    "data = pd.read_excel(\"D:\\Data Analyst\\All Files\\ESD.xlsx\")\n",
    "print(data.head(10))\n"
   ]
  },
  {
   "cell_type": "code",
   "execution_count": 8,
   "id": "e4e609f2",
   "metadata": {},
   "outputs": [
    {
     "name": "stdout",
     "output_type": "stream",
     "text": [
      "                     Age\n",
      "Country                 \n",
      "Brazil         43.654676\n",
      "China          45.389908\n",
      "United States  44.197512\n"
     ]
    }
   ],
   "source": [
    "# Conrty wise Employee Average Age:\n",
    "\n",
    "gp2 =data.groupby('Country').agg({'Age':'mean'})\n",
    "print(gp2)"
   ]
  },
  {
   "cell_type": "code",
   "execution_count": 11,
   "id": "b326c6e7",
   "metadata": {},
   "outputs": [
    {
     "name": "stdout",
     "output_type": "stream",
     "text": [
      "               Annual Salary\n",
      "Country                     \n",
      "Brazil         112324.834532\n",
      "China          113823.532110\n",
      "United States  113204.794712\n"
     ]
    }
   ],
   "source": [
    "# Average Annual Salary Country wise\n",
    "gp3 =data.groupby('Country').agg({'Annual Salary':'mean'})\n",
    "print(gp3)"
   ]
  },
  {
   "cell_type": "code",
   "execution_count": 12,
   "id": "40636b8b",
   "metadata": {},
   "outputs": [
    {
     "name": "stdout",
     "output_type": "stream",
     "text": [
      "     Annual Salary\n",
      "Age               \n",
      "25   114982.136364\n",
      "26   105429.000000\n",
      "27   127815.653846\n",
      "28   106727.896552\n",
      "29   116907.259259\n",
      "30   106481.965517\n",
      "31   123664.846154\n",
      "32   117501.150000\n",
      "33   107136.730769\n",
      "34    97422.913043\n",
      "35   109337.055556\n",
      "36   123756.900000\n",
      "37   117375.678571\n",
      "38   126606.777778\n",
      "39   110928.789474\n",
      "40   104312.423077\n",
      "41   127911.576923\n",
      "42   107753.800000\n",
      "43   124331.400000\n",
      "44   110221.176471\n",
      "45   114228.930556\n",
      "46   105916.413793\n",
      "47   118907.428571\n",
      "48   113754.903226\n",
      "49   118282.571429\n",
      "50   120617.333333\n",
      "51   111302.708333\n",
      "52   124044.166667\n",
      "53   114746.681818\n",
      "54   113858.480000\n",
      "55   103072.920000\n",
      "56   100242.437500\n",
      "57   107395.578947\n",
      "58    92189.866667\n",
      "59   118941.789474\n",
      "60   114900.545455\n",
      "61   100926.833333\n",
      "62    96710.687500\n",
      "63   129937.263158\n",
      "64   121989.434783\n",
      "65    99203.866667\n"
     ]
    }
   ],
   "source": [
    "# Average Annual Salary Age wise\n",
    "gp3 =data.groupby('Age').agg({'Annual Salary':'mean'})\n",
    "print(gp3)"
   ]
  },
  {
   "cell_type": "code",
   "execution_count": 16,
   "id": "62c6c4f0",
   "metadata": {},
   "outputs": [
    {
     "name": "stdout",
     "output_type": "stream",
     "text": [
      "                      Annual Salary\n",
      "Country       Gender               \n",
      "Brazil        Female         258426\n",
      "              Male           249506\n",
      "China         Female         249686\n",
      "              Male           257194\n",
      "United States Female         258498\n",
      "              Male           258081\n"
     ]
    }
   ],
   "source": [
    "# Maximum Annual Salary Country in gender wise\n",
    "gp3 =data.groupby(['Country','Gender']).agg({'Annual Salary':'max'})\n",
    "print(gp3)"
   ]
  },
  {
   "cell_type": "code",
   "execution_count": 18,
   "id": "fcccc034",
   "metadata": {},
   "outputs": [
    {
     "name": "stdout",
     "output_type": "stream",
     "text": [
      "                      Annual Salary  Age\n",
      "Country       Gender                    \n",
      "Brazil        Female         258426   25\n",
      "              Male           249506   26\n",
      "China         Female         249686   25\n",
      "              Male           257194   25\n",
      "United States Female         258498   25\n",
      "              Male           258081   25\n"
     ]
    }
   ],
   "source": [
    "# Maximum Annual Salary and Minimun of age Country in gender wise\n",
    "gp4 = data.groupby(['Country','Gender']).agg({'Annual Salary':'max','Age':'min'})\n",
    "print(gp4)"
   ]
  },
  {
   "cell_type": "code",
   "execution_count": null,
   "id": "3270150e",
   "metadata": {},
   "outputs": [],
   "source": []
  }
 ],
 "metadata": {
  "kernelspec": {
   "display_name": "Python 3 (ipykernel)",
   "language": "python",
   "name": "python3"
  },
  "language_info": {
   "codemirror_mode": {
    "name": "ipython",
    "version": 3
   },
   "file_extension": ".py",
   "mimetype": "text/x-python",
   "name": "python",
   "nbconvert_exporter": "python",
   "pygments_lexer": "ipython3",
   "version": "3.7.6"
  }
 },
 "nbformat": 4,
 "nbformat_minor": 5
}
